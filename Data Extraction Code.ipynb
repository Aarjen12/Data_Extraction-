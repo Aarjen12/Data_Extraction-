{
  "nbformat": 4,
  "nbformat_minor": 0,
  "metadata": {
    "colab": {
      "provenance": []
    },
    "kernelspec": {
      "name": "python3",
      "display_name": "Python 3"
    },
    "language_info": {
      "name": "python"
    }
  },
  "cells": [
    {
      "cell_type": "code",
      "execution_count": 1,
      "metadata": {
        "colab": {
          "base_uri": "https://localhost:8080/",
          "height": 384
        },
        "id": "myKawj9P2JWn",
        "outputId": "c487b5fc-5267-42c7-f229-ca722dad7aa8"
      },
      "outputs": [
        {
          "output_type": "error",
          "ename": "ModuleNotFoundError",
          "evalue": "No module named 'speech_recognition'",
          "traceback": [
            "\u001b[0;31m---------------------------------------------------------------------------\u001b[0m",
            "\u001b[0;31mModuleNotFoundError\u001b[0m                       Traceback (most recent call last)",
            "\u001b[0;32m<ipython-input-1-57efe29a6c6b>\u001b[0m in \u001b[0;36m<cell line: 3>\u001b[0;34m()\u001b[0m\n\u001b[1;32m      1\u001b[0m \u001b[0;32mimport\u001b[0m \u001b[0mjson\u001b[0m\u001b[0;34m\u001b[0m\u001b[0;34m\u001b[0m\u001b[0m\n\u001b[1;32m      2\u001b[0m \u001b[0;32mimport\u001b[0m \u001b[0mos\u001b[0m\u001b[0;34m\u001b[0m\u001b[0;34m\u001b[0m\u001b[0m\n\u001b[0;32m----> 3\u001b[0;31m \u001b[0;32mimport\u001b[0m \u001b[0mspeech_recognition\u001b[0m \u001b[0;32mas\u001b[0m \u001b[0msr\u001b[0m \u001b[0;31m# type: ignore\u001b[0m\u001b[0;34m\u001b[0m\u001b[0;34m\u001b[0m\u001b[0m\n\u001b[0m\u001b[1;32m      4\u001b[0m \u001b[0;32mfrom\u001b[0m \u001b[0mpdfminer\u001b[0m\u001b[0;34m.\u001b[0m\u001b[0mhigh_level\u001b[0m \u001b[0;32mimport\u001b[0m \u001b[0mextract_text\u001b[0m \u001b[0;31m# type: ignore\u001b[0m\u001b[0;34m\u001b[0m\u001b[0;34m\u001b[0m\u001b[0m\n\u001b[1;32m      5\u001b[0m \u001b[0;32mimport\u001b[0m \u001b[0mpython_pptx\u001b[0m \u001b[0;31m# type: ignore\u001b[0m\u001b[0;34m\u001b[0m\u001b[0;34m\u001b[0m\u001b[0m\n",
            "\u001b[0;31mModuleNotFoundError\u001b[0m: No module named 'speech_recognition'",
            "",
            "\u001b[0;31m---------------------------------------------------------------------------\u001b[0;32m\nNOTE: If your import is failing due to a missing package, you can\nmanually install dependencies using either !pip or !apt.\n\nTo view examples of installing some common dependencies, click the\n\"Open Examples\" button below.\n\u001b[0;31m---------------------------------------------------------------------------\u001b[0m\n"
          ],
          "errorDetails": {
            "actions": [
              {
                "action": "open_url",
                "actionText": "Open Examples",
                "url": "/notebooks/snippets/importing_libraries.ipynb"
              }
            ]
          }
        }
      ],
      "source": [
        "import json\n",
        "import os\n",
        "import speech_recognition as sr # type: ignore\n",
        "from pdfminer.high_level import extract_text # type: ignore\n",
        "import python_pptx # type: ignore\n",
        "from docx import Document # type: ignore\n",
        "from PIL import Image # type: ignore\n",
        "import pytesseract # type: ignore\n",
        "\n",
        "def extract_data_from_pdf(file_path):\n",
        "    return extract_text(file_path)\n",
        "\n",
        "def extract_data_from_ppt(file_path):\n",
        "    ppt = python_pptx.Presentation(file_path)\n",
        "    text = \"\"\n",
        "    for slide in ppt.slides:\n",
        "        for shape in slide.shapes:\n",
        "            if hasattr(shape, \"text\"):\n",
        "                text += shape.text + \"\\n\"\n",
        "    return text\n",
        "\n",
        "def extract_data_from_docx(file_path):\n",
        "    doc = Document(file_path)\n",
        "    text = \"\"\n",
        "    for paragraph in doc.paragraphs:\n",
        "        text += paragraph.text + \"\\n\"\n",
        "    return text\n",
        "\n",
        "def extract_text_from_image(file_path):\n",
        "    image = Image.open(file_path)\n",
        "    text = pytesseract.image_to_string(image)\n",
        "    return text\n",
        "\n",
        "def transcribe_audio(file_path):\n",
        "    recognizer = sr.Recognizer()\n",
        "    with sr.AudioFile(file_path) as source:\n",
        "        audio_data = recognizer.record(source)\n",
        "        text = recognizer.recognize_google(audio_data)\n",
        "    return text\n",
        "\n",
        "def extract_data(file_path):\n",
        "    file_extension = os.path.splitext(file_path)[1].lower()\n",
        "    if file_extension == '.pdf':\n",
        "        return extract_data_from_pdf(file_path)\n",
        "    elif file_extension == '.pptx':\n",
        "        return extract_data_from_ppt(file_path)\n",
        "    elif file_extension == '.docx':\n",
        "        return extract_data_from_docx(file_path)\n",
        "    elif file_extension in ['.jpg', '.jpeg', '.png']:\n",
        "        return extract_text_from_image(file_path)\n",
        "    elif file_extension in ['.mp3', '.wav']:\n",
        "        return transcribe_audio(file_path)\n",
        "    else:\n",
        "        return \"Unsupported file format.\"\n",
        "\n",
        "def generate_json(file_path):\n",
        "    data = extract_data(file_path)\n",
        "    if data != \"Unsupported file format.\":\n",
        "        return json.dumps({\"data\": data})\n",
        "    else:\n",
        "        return json.dumps({\"error\": data})\n",
        "\n",
        "if __name__ == \"__main__\":\n",
        "    file_path = input(\"Enter the path of the file: \")\n",
        "    json_output = generate_json(file_path)\n",
        "    print(json_output)\n"
      ]
    }
  ]
}